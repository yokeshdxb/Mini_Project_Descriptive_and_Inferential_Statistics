{
  "nbformat": 4,
  "nbformat_minor": 0,
  "metadata": {
    "colab": {
      "provenance": []
    },
    "kernelspec": {
      "name": "python3",
      "display_name": "Python 3"
    },
    "language_info": {
      "name": "python"
    }
  },
  "cells": [
    {
      "cell_type": "markdown",
      "source": [
        "# **Q1. Key Statistical Definitions**"
      ],
      "metadata": {
        "id": "34PACmskPPgr"
      }
    },
    {
      "cell_type": "markdown",
      "source": [
        "Problem:\n",
        "\n",
        "Write short definitions (2-3 lines each) for the following:\n",
        "\n",
        "● a) Population and Sample\n",
        "\n",
        "● b) Descriptive Statistics and Inferential Statistics\n",
        "\n",
        "● c) Parameter and Statistic\n",
        "\n",
        "● d) Qualitative and Quantitative Data"
      ],
      "metadata": {
        "id": "LBy5CMsDP1xE"
      }
    },
    {
      "cell_type": "markdown",
      "source": [
        "## **a) Population and Sample**\n",
        "\n",
        "**Population:** The complete set of all individuals or items that you're studying.\n",
        "\n",
        "**Sample:** A subset of the population selected for analysis to make inferences about the whole.\n",
        "\n",
        "## **b) Descriptive Statistics and Inferential Statistics**\n",
        "\n",
        "**Descriptive Statistics:** Methods for summarizing and organizing data using measures such as mean, median, and standard deviation.\n",
        "\n",
        "**Inferential Statistics:** Techniques for drawing conclusions or making predictions about a population based on sample data.\n",
        "\n",
        "## **c) Parameter and Statistic**\n",
        "\n",
        "**Parameter:** A numerical value that describes a characteristic of a population (e.g., population mean).\n",
        "\n",
        "**Statistic:** A numerical value that describes a characteristic of a sample (e.g., sample mean).\n",
        "\n",
        "## **d) Qualitative and Quantitative Data**\n",
        "\n",
        "**Qualitative Data:** Non-numeric information that describes categories or labels (e.g., colors, names).\n",
        "\n",
        "**Quantitative Data:** Numeric data that represents measurable quantities (e.g., height, weight)."
      ],
      "metadata": {
        "id": "kLFmY7rCQb1S"
      }
    },
    {
      "cell_type": "markdown",
      "source": [
        "# **Q2. Measures of Central Tendency - Definitions**"
      ],
      "metadata": {
        "id": "OQUv5562XbCx"
      }
    },
    {
      "cell_type": "markdown",
      "source": [
        "Problem:\n",
        "\n",
        "Define the following terms with one example each:\n",
        "\n",
        "● a) Mean\n",
        "\n",
        "● b) Median\n",
        "\n",
        "● c) Mode"
      ],
      "metadata": {
        "id": "ai8BWEjeXgrP"
      }
    },
    {
      "cell_type": "markdown",
      "source": [
        "**a) Mean**\n",
        "\n",
        "Definition: The mean is the average of a set of numbers, calculated by summing all values and dividing by the number of values.\n",
        "\n",
        "Example: For the numbers 4, 6, and 8: Mean = (4 + 6 + 8) / 3 = 18 / 3 = 6\n",
        "\n",
        "**b) Median**\n",
        "\n",
        "Definition: The median is the middle value in an ordered dataset. If there is an even number of values, it's the average of the two middle numbers.\n",
        "\n",
        "Example: For the numbers 3, 7, 9: Median = 7 (the middle value)\n",
        "\n",
        "**c) Mode**\n",
        "\n",
        "Definition: The mode is the value that appears most frequently in a dataset.\n",
        "\n",
        "Example: For the numbers 2, 4, 4, 6, 8: Mode = 4 (it appears twice)"
      ],
      "metadata": {
        "id": "6Ino7sdwXtTt"
      }
    },
    {
      "cell_type": "markdown",
      "source": [
        "# **Q3. Manual Calculation of Mean, Median, and Mode**\n",
        "\n",
        "Objective: Apply manual formulas to real data.\n",
        "\n",
        "Problem:\n",
        "\n",
        "Given the dataset:\n",
        "\n",
        "12, 18, 14, 16, 18, 20, 18, 15, 12, 18, 14, 16, 18, 20, 18, 15\n",
        "\n",
        "Calculate:\n",
        "\n",
        "● a) Mean\n",
        "\n",
        "● b) Median\n",
        "\n",
        "● c) Mode"
      ],
      "metadata": {
        "id": "t-ds8K8lYnBs"
      }
    },
    {
      "cell_type": "code",
      "source": [
        "# Mean"
      ],
      "metadata": {
        "id": "CPOr66MKZ0bO"
      },
      "execution_count": null,
      "outputs": []
    },
    {
      "cell_type": "code",
      "source": [
        "sum_n = 12 + 18 + 14 + 16 + 18 + 20 + 18 + 15 + 12 + 18 + 14 + 16 + 18 + 20 + 18 + 15"
      ],
      "metadata": {
        "id": "My_F1VyYYybp"
      },
      "execution_count": null,
      "outputs": []
    },
    {
      "cell_type": "code",
      "source": [
        "sum_n"
      ],
      "metadata": {
        "colab": {
          "base_uri": "https://localhost:8080/"
        },
        "id": "dYgNPTpYZZO5",
        "outputId": "4e88df5f-cc20-4235-90a0-9f1c67be4719"
      },
      "execution_count": null,
      "outputs": [
        {
          "output_type": "execute_result",
          "data": {
            "text/plain": [
              "262"
            ]
          },
          "metadata": {},
          "execution_count": 4
        }
      ]
    },
    {
      "cell_type": "code",
      "source": [
        "count_n = len([12, 18, 14, 16, 18, 20, 18, 15, 12, 18, 14, 16, 18, 20, 18, 15])"
      ],
      "metadata": {
        "id": "DYL_vXKOZKar"
      },
      "execution_count": null,
      "outputs": []
    },
    {
      "cell_type": "code",
      "source": [
        "count_n"
      ],
      "metadata": {
        "colab": {
          "base_uri": "https://localhost:8080/"
        },
        "id": "0uFs8QEpZVlJ",
        "outputId": "706e629b-0868-4c0b-e833-6c661c639d14"
      },
      "execution_count": null,
      "outputs": [
        {
          "output_type": "execute_result",
          "data": {
            "text/plain": [
              "16"
            ]
          },
          "metadata": {},
          "execution_count": 6
        }
      ]
    },
    {
      "cell_type": "code",
      "source": [
        "mean_n = sum_n/count_n"
      ],
      "metadata": {
        "id": "uZeOp41HZbtS"
      },
      "execution_count": null,
      "outputs": []
    },
    {
      "cell_type": "code",
      "source": [
        "mean_n"
      ],
      "metadata": {
        "colab": {
          "base_uri": "https://localhost:8080/"
        },
        "id": "7Qs_rcMdZeeT",
        "outputId": "f6262a90-b2d0-4ce3-f984-f8c40188ed8a"
      },
      "execution_count": null,
      "outputs": [
        {
          "output_type": "execute_result",
          "data": {
            "text/plain": [
              "16.375"
            ]
          },
          "metadata": {},
          "execution_count": 9
        }
      ]
    },
    {
      "cell_type": "code",
      "source": [
        "# Median"
      ],
      "metadata": {
        "id": "89RcaHjWZpXp"
      },
      "execution_count": null,
      "outputs": []
    },
    {
      "cell_type": "code",
      "source": [
        "import statistics"
      ],
      "metadata": {
        "id": "0F8HuTLMaROT"
      },
      "execution_count": null,
      "outputs": []
    },
    {
      "cell_type": "code",
      "source": [
        "median_n = statistics.median([12, 18, 14, 16, 18, 20, 18, 15, 12, 18, 14, 16, 18, 20, 18, 15])"
      ],
      "metadata": {
        "id": "HuQIL2MbaUO1"
      },
      "execution_count": null,
      "outputs": []
    },
    {
      "cell_type": "code",
      "source": [
        "median_n"
      ],
      "metadata": {
        "colab": {
          "base_uri": "https://localhost:8080/"
        },
        "id": "Ua3U4YeXaY7n",
        "outputId": "3749ffdc-65ef-483b-f987-e1f7f34ab942"
      },
      "execution_count": null,
      "outputs": [
        {
          "output_type": "execute_result",
          "data": {
            "text/plain": [
              "17.0"
            ]
          },
          "metadata": {},
          "execution_count": 14
        }
      ]
    },
    {
      "cell_type": "code",
      "source": [
        "# Mode"
      ],
      "metadata": {
        "id": "6p4fhvyba1e0"
      },
      "execution_count": null,
      "outputs": []
    },
    {
      "cell_type": "code",
      "source": [
        "mode_n = statistics.mode([12, 18, 14, 16, 18, 20, 18, 15, 12, 18, 14, 16, 18, 20, 18, 15])"
      ],
      "metadata": {
        "id": "TFLUK8rfakDb"
      },
      "execution_count": null,
      "outputs": []
    },
    {
      "cell_type": "code",
      "source": [
        "mode_n"
      ],
      "metadata": {
        "colab": {
          "base_uri": "https://localhost:8080/"
        },
        "id": "DDMP1Arsav9R",
        "outputId": "4d527357-41e5-4b1b-99a7-32d721005a7e"
      },
      "execution_count": null,
      "outputs": [
        {
          "output_type": "execute_result",
          "data": {
            "text/plain": [
              "18"
            ]
          },
          "metadata": {},
          "execution_count": 16
        }
      ]
    },
    {
      "cell_type": "code",
      "source": [
        "import pandas as pd"
      ],
      "metadata": {
        "id": "S-yRSnuKbBwm"
      },
      "execution_count": null,
      "outputs": []
    },
    {
      "cell_type": "code",
      "source": [
        "pd.DataFrame([12, 18, 14, 16, 18, 20, 18, 15, 12, 18, 14, 16, 18, 20, 18, 15]).describe()"
      ],
      "metadata": {
        "colab": {
          "base_uri": "https://localhost:8080/",
          "height": 300
        },
        "id": "nZiJm-zibC5m",
        "outputId": "7895bb28-111a-4f4c-fec0-7676838b1d6d"
      },
      "execution_count": null,
      "outputs": [
        {
          "output_type": "execute_result",
          "data": {
            "text/plain": [
              "               0\n",
              "count  16.000000\n",
              "mean   16.375000\n",
              "std     2.526526\n",
              "min    12.000000\n",
              "25%    14.750000\n",
              "50%    17.000000\n",
              "75%    18.000000\n",
              "max    20.000000"
            ],
            "text/html": [
              "\n",
              "  <div id=\"df-a1b3342e-5762-4b1f-8c56-f45f794bb0bd\" class=\"colab-df-container\">\n",
              "    <div>\n",
              "<style scoped>\n",
              "    .dataframe tbody tr th:only-of-type {\n",
              "        vertical-align: middle;\n",
              "    }\n",
              "\n",
              "    .dataframe tbody tr th {\n",
              "        vertical-align: top;\n",
              "    }\n",
              "\n",
              "    .dataframe thead th {\n",
              "        text-align: right;\n",
              "    }\n",
              "</style>\n",
              "<table border=\"1\" class=\"dataframe\">\n",
              "  <thead>\n",
              "    <tr style=\"text-align: right;\">\n",
              "      <th></th>\n",
              "      <th>0</th>\n",
              "    </tr>\n",
              "  </thead>\n",
              "  <tbody>\n",
              "    <tr>\n",
              "      <th>count</th>\n",
              "      <td>16.000000</td>\n",
              "    </tr>\n",
              "    <tr>\n",
              "      <th>mean</th>\n",
              "      <td>16.375000</td>\n",
              "    </tr>\n",
              "    <tr>\n",
              "      <th>std</th>\n",
              "      <td>2.526526</td>\n",
              "    </tr>\n",
              "    <tr>\n",
              "      <th>min</th>\n",
              "      <td>12.000000</td>\n",
              "    </tr>\n",
              "    <tr>\n",
              "      <th>25%</th>\n",
              "      <td>14.750000</td>\n",
              "    </tr>\n",
              "    <tr>\n",
              "      <th>50%</th>\n",
              "      <td>17.000000</td>\n",
              "    </tr>\n",
              "    <tr>\n",
              "      <th>75%</th>\n",
              "      <td>18.000000</td>\n",
              "    </tr>\n",
              "    <tr>\n",
              "      <th>max</th>\n",
              "      <td>20.000000</td>\n",
              "    </tr>\n",
              "  </tbody>\n",
              "</table>\n",
              "</div>\n",
              "    <div class=\"colab-df-buttons\">\n",
              "\n",
              "  <div class=\"colab-df-container\">\n",
              "    <button class=\"colab-df-convert\" onclick=\"convertToInteractive('df-a1b3342e-5762-4b1f-8c56-f45f794bb0bd')\"\n",
              "            title=\"Convert this dataframe to an interactive table.\"\n",
              "            style=\"display:none;\">\n",
              "\n",
              "  <svg xmlns=\"http://www.w3.org/2000/svg\" height=\"24px\" viewBox=\"0 -960 960 960\">\n",
              "    <path d=\"M120-120v-720h720v720H120Zm60-500h600v-160H180v160Zm220 220h160v-160H400v160Zm0 220h160v-160H400v160ZM180-400h160v-160H180v160Zm440 0h160v-160H620v160ZM180-180h160v-160H180v160Zm440 0h160v-160H620v160Z\"/>\n",
              "  </svg>\n",
              "    </button>\n",
              "\n",
              "  <style>\n",
              "    .colab-df-container {\n",
              "      display:flex;\n",
              "      gap: 12px;\n",
              "    }\n",
              "\n",
              "    .colab-df-convert {\n",
              "      background-color: #E8F0FE;\n",
              "      border: none;\n",
              "      border-radius: 50%;\n",
              "      cursor: pointer;\n",
              "      display: none;\n",
              "      fill: #1967D2;\n",
              "      height: 32px;\n",
              "      padding: 0 0 0 0;\n",
              "      width: 32px;\n",
              "    }\n",
              "\n",
              "    .colab-df-convert:hover {\n",
              "      background-color: #E2EBFA;\n",
              "      box-shadow: 0px 1px 2px rgba(60, 64, 67, 0.3), 0px 1px 3px 1px rgba(60, 64, 67, 0.15);\n",
              "      fill: #174EA6;\n",
              "    }\n",
              "\n",
              "    .colab-df-buttons div {\n",
              "      margin-bottom: 4px;\n",
              "    }\n",
              "\n",
              "    [theme=dark] .colab-df-convert {\n",
              "      background-color: #3B4455;\n",
              "      fill: #D2E3FC;\n",
              "    }\n",
              "\n",
              "    [theme=dark] .colab-df-convert:hover {\n",
              "      background-color: #434B5C;\n",
              "      box-shadow: 0px 1px 3px 1px rgba(0, 0, 0, 0.15);\n",
              "      filter: drop-shadow(0px 1px 2px rgba(0, 0, 0, 0.3));\n",
              "      fill: #FFFFFF;\n",
              "    }\n",
              "  </style>\n",
              "\n",
              "    <script>\n",
              "      const buttonEl =\n",
              "        document.querySelector('#df-a1b3342e-5762-4b1f-8c56-f45f794bb0bd button.colab-df-convert');\n",
              "      buttonEl.style.display =\n",
              "        google.colab.kernel.accessAllowed ? 'block' : 'none';\n",
              "\n",
              "      async function convertToInteractive(key) {\n",
              "        const element = document.querySelector('#df-a1b3342e-5762-4b1f-8c56-f45f794bb0bd');\n",
              "        const dataTable =\n",
              "          await google.colab.kernel.invokeFunction('convertToInteractive',\n",
              "                                                    [key], {});\n",
              "        if (!dataTable) return;\n",
              "\n",
              "        const docLinkHtml = 'Like what you see? Visit the ' +\n",
              "          '<a target=\"_blank\" href=https://colab.research.google.com/notebooks/data_table.ipynb>data table notebook</a>'\n",
              "          + ' to learn more about interactive tables.';\n",
              "        element.innerHTML = '';\n",
              "        dataTable['output_type'] = 'display_data';\n",
              "        await google.colab.output.renderOutput(dataTable, element);\n",
              "        const docLink = document.createElement('div');\n",
              "        docLink.innerHTML = docLinkHtml;\n",
              "        element.appendChild(docLink);\n",
              "      }\n",
              "    </script>\n",
              "  </div>\n",
              "\n",
              "\n",
              "    <div id=\"df-9d49dff0-c7ff-4813-b81e-65dd6d33d9eb\">\n",
              "      <button class=\"colab-df-quickchart\" onclick=\"quickchart('df-9d49dff0-c7ff-4813-b81e-65dd6d33d9eb')\"\n",
              "                title=\"Suggest charts\"\n",
              "                style=\"display:none;\">\n",
              "\n",
              "<svg xmlns=\"http://www.w3.org/2000/svg\" height=\"24px\"viewBox=\"0 0 24 24\"\n",
              "     width=\"24px\">\n",
              "    <g>\n",
              "        <path d=\"M19 3H5c-1.1 0-2 .9-2 2v14c0 1.1.9 2 2 2h14c1.1 0 2-.9 2-2V5c0-1.1-.9-2-2-2zM9 17H7v-7h2v7zm4 0h-2V7h2v10zm4 0h-2v-4h2v4z\"/>\n",
              "    </g>\n",
              "</svg>\n",
              "      </button>\n",
              "\n",
              "<style>\n",
              "  .colab-df-quickchart {\n",
              "      --bg-color: #E8F0FE;\n",
              "      --fill-color: #1967D2;\n",
              "      --hover-bg-color: #E2EBFA;\n",
              "      --hover-fill-color: #174EA6;\n",
              "      --disabled-fill-color: #AAA;\n",
              "      --disabled-bg-color: #DDD;\n",
              "  }\n",
              "\n",
              "  [theme=dark] .colab-df-quickchart {\n",
              "      --bg-color: #3B4455;\n",
              "      --fill-color: #D2E3FC;\n",
              "      --hover-bg-color: #434B5C;\n",
              "      --hover-fill-color: #FFFFFF;\n",
              "      --disabled-bg-color: #3B4455;\n",
              "      --disabled-fill-color: #666;\n",
              "  }\n",
              "\n",
              "  .colab-df-quickchart {\n",
              "    background-color: var(--bg-color);\n",
              "    border: none;\n",
              "    border-radius: 50%;\n",
              "    cursor: pointer;\n",
              "    display: none;\n",
              "    fill: var(--fill-color);\n",
              "    height: 32px;\n",
              "    padding: 0;\n",
              "    width: 32px;\n",
              "  }\n",
              "\n",
              "  .colab-df-quickchart:hover {\n",
              "    background-color: var(--hover-bg-color);\n",
              "    box-shadow: 0 1px 2px rgba(60, 64, 67, 0.3), 0 1px 3px 1px rgba(60, 64, 67, 0.15);\n",
              "    fill: var(--button-hover-fill-color);\n",
              "  }\n",
              "\n",
              "  .colab-df-quickchart-complete:disabled,\n",
              "  .colab-df-quickchart-complete:disabled:hover {\n",
              "    background-color: var(--disabled-bg-color);\n",
              "    fill: var(--disabled-fill-color);\n",
              "    box-shadow: none;\n",
              "  }\n",
              "\n",
              "  .colab-df-spinner {\n",
              "    border: 2px solid var(--fill-color);\n",
              "    border-color: transparent;\n",
              "    border-bottom-color: var(--fill-color);\n",
              "    animation:\n",
              "      spin 1s steps(1) infinite;\n",
              "  }\n",
              "\n",
              "  @keyframes spin {\n",
              "    0% {\n",
              "      border-color: transparent;\n",
              "      border-bottom-color: var(--fill-color);\n",
              "      border-left-color: var(--fill-color);\n",
              "    }\n",
              "    20% {\n",
              "      border-color: transparent;\n",
              "      border-left-color: var(--fill-color);\n",
              "      border-top-color: var(--fill-color);\n",
              "    }\n",
              "    30% {\n",
              "      border-color: transparent;\n",
              "      border-left-color: var(--fill-color);\n",
              "      border-top-color: var(--fill-color);\n",
              "      border-right-color: var(--fill-color);\n",
              "    }\n",
              "    40% {\n",
              "      border-color: transparent;\n",
              "      border-right-color: var(--fill-color);\n",
              "      border-top-color: var(--fill-color);\n",
              "    }\n",
              "    60% {\n",
              "      border-color: transparent;\n",
              "      border-right-color: var(--fill-color);\n",
              "    }\n",
              "    80% {\n",
              "      border-color: transparent;\n",
              "      border-right-color: var(--fill-color);\n",
              "      border-bottom-color: var(--fill-color);\n",
              "    }\n",
              "    90% {\n",
              "      border-color: transparent;\n",
              "      border-bottom-color: var(--fill-color);\n",
              "    }\n",
              "  }\n",
              "</style>\n",
              "\n",
              "      <script>\n",
              "        async function quickchart(key) {\n",
              "          const quickchartButtonEl =\n",
              "            document.querySelector('#' + key + ' button');\n",
              "          quickchartButtonEl.disabled = true;  // To prevent multiple clicks.\n",
              "          quickchartButtonEl.classList.add('colab-df-spinner');\n",
              "          try {\n",
              "            const charts = await google.colab.kernel.invokeFunction(\n",
              "                'suggestCharts', [key], {});\n",
              "          } catch (error) {\n",
              "            console.error('Error during call to suggestCharts:', error);\n",
              "          }\n",
              "          quickchartButtonEl.classList.remove('colab-df-spinner');\n",
              "          quickchartButtonEl.classList.add('colab-df-quickchart-complete');\n",
              "        }\n",
              "        (() => {\n",
              "          let quickchartButtonEl =\n",
              "            document.querySelector('#df-9d49dff0-c7ff-4813-b81e-65dd6d33d9eb button');\n",
              "          quickchartButtonEl.style.display =\n",
              "            google.colab.kernel.accessAllowed ? 'block' : 'none';\n",
              "        })();\n",
              "      </script>\n",
              "    </div>\n",
              "\n",
              "    </div>\n",
              "  </div>\n"
            ],
            "application/vnd.google.colaboratory.intrinsic+json": {
              "type": "dataframe",
              "summary": "{\n  \"name\": \"pd\",\n  \"rows\": 8,\n  \"fields\": [\n    {\n      \"column\": 0,\n      \"properties\": {\n        \"dtype\": \"number\",\n        \"std\": 5.400253238397672,\n        \"min\": 2.526525941551627,\n        \"max\": 20.0,\n        \"num_unique_values\": 8,\n        \"samples\": [\n          16.375,\n          17.0,\n          16.0\n        ],\n        \"semantic_type\": \"\",\n        \"description\": \"\"\n      }\n    }\n  ]\n}"
            }
          },
          "metadata": {},
          "execution_count": 21
        }
      ]
    },
    {
      "cell_type": "code",
      "source": [
        "pd.DataFrame([12, 18, 14, 16, 18, 20, 18, 15, 12, 18, 14, 16, 18, 20, 18, 15]).mode()"
      ],
      "metadata": {
        "colab": {
          "base_uri": "https://localhost:8080/",
          "height": 80
        },
        "id": "wOmJFftibf-P",
        "outputId": "996404b0-916d-4af7-e8ce-210a630cea6e"
      },
      "execution_count": null,
      "outputs": [
        {
          "output_type": "execute_result",
          "data": {
            "text/plain": [
              "    0\n",
              "0  18"
            ],
            "text/html": [
              "\n",
              "  <div id=\"df-90ac1fe9-21fd-4b33-ba5b-9642197b5913\" class=\"colab-df-container\">\n",
              "    <div>\n",
              "<style scoped>\n",
              "    .dataframe tbody tr th:only-of-type {\n",
              "        vertical-align: middle;\n",
              "    }\n",
              "\n",
              "    .dataframe tbody tr th {\n",
              "        vertical-align: top;\n",
              "    }\n",
              "\n",
              "    .dataframe thead th {\n",
              "        text-align: right;\n",
              "    }\n",
              "</style>\n",
              "<table border=\"1\" class=\"dataframe\">\n",
              "  <thead>\n",
              "    <tr style=\"text-align: right;\">\n",
              "      <th></th>\n",
              "      <th>0</th>\n",
              "    </tr>\n",
              "  </thead>\n",
              "  <tbody>\n",
              "    <tr>\n",
              "      <th>0</th>\n",
              "      <td>18</td>\n",
              "    </tr>\n",
              "  </tbody>\n",
              "</table>\n",
              "</div>\n",
              "    <div class=\"colab-df-buttons\">\n",
              "\n",
              "  <div class=\"colab-df-container\">\n",
              "    <button class=\"colab-df-convert\" onclick=\"convertToInteractive('df-90ac1fe9-21fd-4b33-ba5b-9642197b5913')\"\n",
              "            title=\"Convert this dataframe to an interactive table.\"\n",
              "            style=\"display:none;\">\n",
              "\n",
              "  <svg xmlns=\"http://www.w3.org/2000/svg\" height=\"24px\" viewBox=\"0 -960 960 960\">\n",
              "    <path d=\"M120-120v-720h720v720H120Zm60-500h600v-160H180v160Zm220 220h160v-160H400v160Zm0 220h160v-160H400v160ZM180-400h160v-160H180v160Zm440 0h160v-160H620v160ZM180-180h160v-160H180v160Zm440 0h160v-160H620v160Z\"/>\n",
              "  </svg>\n",
              "    </button>\n",
              "\n",
              "  <style>\n",
              "    .colab-df-container {\n",
              "      display:flex;\n",
              "      gap: 12px;\n",
              "    }\n",
              "\n",
              "    .colab-df-convert {\n",
              "      background-color: #E8F0FE;\n",
              "      border: none;\n",
              "      border-radius: 50%;\n",
              "      cursor: pointer;\n",
              "      display: none;\n",
              "      fill: #1967D2;\n",
              "      height: 32px;\n",
              "      padding: 0 0 0 0;\n",
              "      width: 32px;\n",
              "    }\n",
              "\n",
              "    .colab-df-convert:hover {\n",
              "      background-color: #E2EBFA;\n",
              "      box-shadow: 0px 1px 2px rgba(60, 64, 67, 0.3), 0px 1px 3px 1px rgba(60, 64, 67, 0.15);\n",
              "      fill: #174EA6;\n",
              "    }\n",
              "\n",
              "    .colab-df-buttons div {\n",
              "      margin-bottom: 4px;\n",
              "    }\n",
              "\n",
              "    [theme=dark] .colab-df-convert {\n",
              "      background-color: #3B4455;\n",
              "      fill: #D2E3FC;\n",
              "    }\n",
              "\n",
              "    [theme=dark] .colab-df-convert:hover {\n",
              "      background-color: #434B5C;\n",
              "      box-shadow: 0px 1px 3px 1px rgba(0, 0, 0, 0.15);\n",
              "      filter: drop-shadow(0px 1px 2px rgba(0, 0, 0, 0.3));\n",
              "      fill: #FFFFFF;\n",
              "    }\n",
              "  </style>\n",
              "\n",
              "    <script>\n",
              "      const buttonEl =\n",
              "        document.querySelector('#df-90ac1fe9-21fd-4b33-ba5b-9642197b5913 button.colab-df-convert');\n",
              "      buttonEl.style.display =\n",
              "        google.colab.kernel.accessAllowed ? 'block' : 'none';\n",
              "\n",
              "      async function convertToInteractive(key) {\n",
              "        const element = document.querySelector('#df-90ac1fe9-21fd-4b33-ba5b-9642197b5913');\n",
              "        const dataTable =\n",
              "          await google.colab.kernel.invokeFunction('convertToInteractive',\n",
              "                                                    [key], {});\n",
              "        if (!dataTable) return;\n",
              "\n",
              "        const docLinkHtml = 'Like what you see? Visit the ' +\n",
              "          '<a target=\"_blank\" href=https://colab.research.google.com/notebooks/data_table.ipynb>data table notebook</a>'\n",
              "          + ' to learn more about interactive tables.';\n",
              "        element.innerHTML = '';\n",
              "        dataTable['output_type'] = 'display_data';\n",
              "        await google.colab.output.renderOutput(dataTable, element);\n",
              "        const docLink = document.createElement('div');\n",
              "        docLink.innerHTML = docLinkHtml;\n",
              "        element.appendChild(docLink);\n",
              "      }\n",
              "    </script>\n",
              "  </div>\n",
              "\n",
              "\n",
              "    </div>\n",
              "  </div>\n"
            ],
            "application/vnd.google.colaboratory.intrinsic+json": {
              "type": "dataframe",
              "summary": "{\n  \"name\": \"pd\",\n  \"rows\": 1,\n  \"fields\": [\n    {\n      \"column\": 0,\n      \"properties\": {\n        \"dtype\": \"number\",\n        \"std\": null,\n        \"min\": 18,\n        \"max\": 18,\n        \"num_unique_values\": 1,\n        \"samples\": [\n          18\n        ],\n        \"semantic_type\": \"\",\n        \"description\": \"\"\n      }\n    }\n  ]\n}"
            }
          },
          "metadata": {},
          "execution_count": 22
        }
      ]
    },
    {
      "cell_type": "markdown",
      "source": [
        "# **Q4. Levels of Measurement**\n",
        "\n",
        "Objective: Understand classification of data types.\n",
        "\n",
        "Problem:\n",
        "\n",
        "Define and give one example for each level of measurement:\n",
        "\n",
        "● a) Nominal\n",
        "\n",
        "● b) Ordinal\n",
        "\n",
        "● c) Interval\n",
        "\n",
        "● d) Ratio"
      ],
      "metadata": {
        "id": "wgOUD6s3cass"
      }
    },
    {
      "cell_type": "markdown",
      "source": [
        "**a) Nominal**\n",
        "\n",
        "Definition: Data that represent categories with no logical order or ranking. Example: Types of fruits Apple, Banana, Orange.\n",
        "\n",
        "**b) Ordinal**\n",
        "\n",
        "Definition: Data that represent categories with a meaningful order, but the differences between values are not uniform or measurable.\n",
        "\n",
        "Example: Customer satisfaction ratings Poor, Fair, Good, Excellent.\n",
        "\n",
        "**c) Interval**\n",
        "\n",
        "Definition: Numeric data with equal intervals between values, but no true zero point.\n",
        "\n",
        "Example: Temperature in Celsius the difference between 20°C and 30°C is meaningful, but 0°C does not mean \"no temperature.\"\n",
        "\n",
        "**d) Ratio**\n",
        "\n",
        "Definition: Numeric data with equal intervals and a true zero point, allowing for meaningful ratios.\n",
        "\n",
        "Example: Weight in kilograms 0 kg means no weight, and 20 kg is twice as heavy as 10 kg."
      ],
      "metadata": {
        "id": "TDcd42ZRclPT"
      }
    },
    {
      "cell_type": "markdown",
      "source": [
        "# **Q5. Variance and Standard Deviation**\n",
        "\n",
        "a) Define Variance and Standard Deviation.\n",
        "\n",
        "b) Explain why Standard Deviation is more interpretable than Variance."
      ],
      "metadata": {
        "id": "algn1h9Oeogv"
      }
    },
    {
      "cell_type": "markdown",
      "source": [
        "## **a) Define Variance and Standard Deviation.**\n",
        "\n",
        "**Variance:**\n",
        "\n",
        "**Definition:** Variance tells us how much the values in a dataset differ from the average (mean). In simpler terms, it measures how spread out the data is.\n",
        "\n",
        "**Example:** Imagine two classes of students taking a test:\n",
        "\n",
        "Class A: Scores: 80, 85, 90, 95, 100\n",
        "\n",
        "Class B: Scores: 50, 60, 70, 90, 100\n",
        "\n",
        "Class A has scores that are close to each other, while Class B has scores that vary more widely. The variance for Class B will be higher because the scores are more spread out from the average.\n",
        "\n",
        "**Standard Deviation:**\n",
        "\n",
        "**Definition:** Standard deviation is just the square root of variance. It also tells us how spread out the data is, but in a way that is easier to understand because it’s in the same unit as the original data.\n",
        "\n",
        "**Example:** Using the same two classes:\n",
        "\n",
        "Class A: The average score is 90, and the standard deviation might be 5, meaning most scores are within 5 points of the average.\n",
        "\n",
        "Class B: The average score is 70, but the standard deviation could be 20, meaning the scores are more spread out and vary by about 20 points from the average."
      ],
      "metadata": {
        "id": "Oiz1K48WfYVs"
      }
    },
    {
      "cell_type": "markdown",
      "source": [
        "## **b) Explain why Standard Deviation is more interpretable than Variance.**\n",
        "\n",
        "Standard deviation is easier to understand because it is in the same units as the original data, making it directly comparable.\n",
        "\n",
        "Variance, however, is in squared units, which makes it harder to relate to the actual data.\n",
        "\n",
        "Example:\n",
        "\n",
        "If you're measuring the height of students in a class in centimeters:\n",
        "\n",
        "If the standard deviation is 5 cm, you can say, \"On average, students' heights differ by 5 cm from the average height.\"\n",
        "\n",
        "If the variance is 25 cm², it's not as easy to understand because it's in square centimeters, which doesn't directly relate to height.\n",
        "\n",
        "So, standard deviation is more user-friendly because it gives a direct sense of the spread in the same units as the data."
      ],
      "metadata": {
        "id": "Dpkngcz2i0QZ"
      }
    },
    {
      "cell_type": "markdown",
      "source": [
        "# **Q6. Manual Calculation - Variance and Standard Deviation**\n",
        "\n",
        "Given the data:\n",
        " 8, 10, 12, 14, 16, 10, 12, 14, 16\n",
        "\n",
        "Calculate:\n",
        "\n",
        "a) Sample Variance\n",
        "\n",
        "\n",
        "b) Sample Standard Deviation"
      ],
      "metadata": {
        "id": "gHhOsemSezUe"
      }
    },
    {
      "cell_type": "markdown",
      "source": [
        "**Given data:**\n",
        "$8, 10, 12, 14, 16, 10, 12, 14, 16$\n",
        "\n",
        "---\n",
        "\n",
        "## ✅ 1️⃣ **Find the mean ($\\bar{x}$)**\n",
        "\n",
        "$$\n",
        "\\bar{x} = \\frac{\\text{Sum of all values}}{n}  \n",
        "= \\frac{8+10+12+14+16+10+12+14+16}{9}  \n",
        "= \\frac{112}{9} \\approx 12.44\n",
        "$$\n",
        "\n",
        "---\n",
        "\n",
        "## ✅ 2️⃣ **Compute each squared deviation**\n",
        "\n",
        "| x  | $x - \\bar{x}$      | $(x - \\bar{x})^2$ |\n",
        "| -- | ------------------ | ----------------- |\n",
        "| 8  | 8 - 12.44 = -4.44  | 19.71             |\n",
        "| 10 | 10 - 12.44 = -2.44 | 5.95              |\n",
        "| 12 | 12 - 12.44 = -0.44 | 0.19              |\n",
        "| 14 | 14 - 12.44 =  1.56 | 2.43              |\n",
        "| 16 | 16 - 12.44 =  3.56 | 12.67             |\n",
        "| 10 | 10 - 12.44 = -2.44 | 5.95              |\n",
        "| 12 | 12 - 12.44 = -0.44 | 0.19              |\n",
        "| 14 | 14 - 12.44 =  1.56 | 2.43              |\n",
        "| 16 | 16 - 12.44 =  3.56 | 12.67             |\n",
        "\n",
        "\n",
        "---\n",
        "\n",
        "## ✅ 3️⃣ **Sum of squared deviations**\n",
        "\n",
        "$$\n",
        "19.71 + 5.95 + 0.19 + 2.43 + 12.67 + 5.95 + 0.19 + 2.43 + 12.67 = 62.19\n",
        "$$\n",
        "\n",
        "---\n",
        "\n",
        "## ✅ 4️⃣ **Sample Variance ($s^2$)**\n",
        "\n",
        "$$\n",
        "s^2 = \\frac{\\text{Sum of squared deviations}}{n-1}  \n",
        "= \\frac{62.19}{9 - 1}  \n",
        "= \\frac{62.19}{8}  \n",
        "= 7.77\n",
        "$$\n",
        "\n",
        "---\n",
        "\n",
        "## ✅ 5️⃣ **Sample Standard Deviation ($s$)**\n",
        "\n",
        "$$\n",
        "s = \\sqrt{s^2} = \\sqrt{7.77} \\approx 2.79\n",
        "$$\n",
        "\n",
        "---\n",
        "\n",
        "## ✅ ✅ **Final Answers:**\n",
        "\n",
        "|                               | Value    |\n",
        "| ----------------------------- | -------- |\n",
        "| **Sample Variance**           | **7.77** |\n",
        "| **Sample Standard Deviation** | **2.79** |\n"
      ],
      "metadata": {
        "id": "NOlw-15HkUJ_"
      }
    },
    {
      "cell_type": "markdown",
      "source": [
        "# **Q7. Range and Interquartile Range (IQR)**\n",
        "\n",
        "\n",
        " Given the dataset:\n",
        " 22, 29, 25, 31, 35, 40, 45, 48, 50\n",
        "\n",
        "a) Arrange data in ascending order\n",
        "\n",
        "\n",
        "b) Calculate the Range\n",
        "\n",
        "\n",
        "c) Find Q1, Q3, and IQR\n"
      ],
      "metadata": {
        "id": "6ennqX6blWQV"
      }
    },
    {
      "cell_type": "code",
      "source": [
        "# a)"
      ],
      "metadata": {
        "id": "xgLQktnRmqwU"
      },
      "execution_count": null,
      "outputs": []
    },
    {
      "cell_type": "code",
      "source": [
        "asc_ord = sorted([22, 29, 25, 31, 35, 40, 45, 48, 50])"
      ],
      "metadata": {
        "id": "f8ecq3bJkA_v"
      },
      "execution_count": null,
      "outputs": []
    },
    {
      "cell_type": "code",
      "source": [
        "asc_ord"
      ],
      "metadata": {
        "colab": {
          "base_uri": "https://localhost:8080/"
        },
        "id": "7U0GqhLPlq3j",
        "outputId": "265f1a3f-7d4f-44fc-ef6d-e546652710be"
      },
      "execution_count": null,
      "outputs": [
        {
          "output_type": "execute_result",
          "data": {
            "text/plain": [
              "[22, 25, 29, 31, 35, 40, 45, 48, 50]"
            ]
          },
          "metadata": {},
          "execution_count": 5
        }
      ]
    },
    {
      "cell_type": "code",
      "source": [
        "# b)"
      ],
      "metadata": {
        "id": "llgtFy_NmsY3"
      },
      "execution_count": null,
      "outputs": []
    },
    {
      "cell_type": "code",
      "source": [
        "range_ = max(asc_ord) - min(asc_ord)"
      ],
      "metadata": {
        "id": "xO355HbDl59Z"
      },
      "execution_count": null,
      "outputs": []
    },
    {
      "cell_type": "code",
      "source": [
        "range_"
      ],
      "metadata": {
        "colab": {
          "base_uri": "https://localhost:8080/"
        },
        "id": "3AxkZRaUmArc",
        "outputId": "7edb10ab-703a-4346-e09d-5235e3022000"
      },
      "execution_count": null,
      "outputs": [
        {
          "output_type": "execute_result",
          "data": {
            "text/plain": [
              "28"
            ]
          },
          "metadata": {},
          "execution_count": 8
        }
      ]
    },
    {
      "cell_type": "code",
      "source": [
        "# c)"
      ],
      "metadata": {
        "id": "TiMawLPlmuSJ"
      },
      "execution_count": null,
      "outputs": []
    },
    {
      "cell_type": "code",
      "source": [
        "import numpy as np"
      ],
      "metadata": {
        "id": "I52swPU3mXtj"
      },
      "execution_count": null,
      "outputs": []
    },
    {
      "cell_type": "code",
      "source": [
        "q1 = np.percentile(asc_ord, 25)"
      ],
      "metadata": {
        "id": "eu34cF8znCD4"
      },
      "execution_count": null,
      "outputs": []
    },
    {
      "cell_type": "code",
      "source": [
        "q1"
      ],
      "metadata": {
        "colab": {
          "base_uri": "https://localhost:8080/"
        },
        "id": "x6wR9i90ocKb",
        "outputId": "293962a3-5885-400b-abe6-268abf10d678"
      },
      "execution_count": null,
      "outputs": [
        {
          "output_type": "execute_result",
          "data": {
            "text/plain": [
              "np.float64(29.0)"
            ]
          },
          "metadata": {},
          "execution_count": 11
        }
      ]
    },
    {
      "cell_type": "code",
      "source": [
        "q3 = np.percentile(asc_ord, 75)"
      ],
      "metadata": {
        "id": "t_-7cVa5ocVn"
      },
      "execution_count": null,
      "outputs": []
    },
    {
      "cell_type": "code",
      "source": [
        "q3"
      ],
      "metadata": {
        "colab": {
          "base_uri": "https://localhost:8080/"
        },
        "id": "RvVioE8togYx",
        "outputId": "bdfad69d-4c05-4700-e408-5db21cb21f92"
      },
      "execution_count": null,
      "outputs": [
        {
          "output_type": "execute_result",
          "data": {
            "text/plain": [
              "np.float64(45.0)"
            ]
          },
          "metadata": {},
          "execution_count": 13
        }
      ]
    },
    {
      "cell_type": "code",
      "source": [
        "IQR = q3 - q1"
      ],
      "metadata": {
        "id": "yO__8w7wogiy"
      },
      "execution_count": null,
      "outputs": []
    },
    {
      "cell_type": "code",
      "source": [
        "IQR"
      ],
      "metadata": {
        "colab": {
          "base_uri": "https://localhost:8080/"
        },
        "id": "qcd2DORuoqO6",
        "outputId": "ef90fccb-5353-4407-c7ee-42bca6a22aba"
      },
      "execution_count": null,
      "outputs": [
        {
          "output_type": "execute_result",
          "data": {
            "text/plain": [
              "np.float64(16.0)"
            ]
          },
          "metadata": {},
          "execution_count": 15
        }
      ]
    },
    {
      "cell_type": "markdown",
      "source": [
        "# **Q8. Five-number Summary and Boxplot Concept**\n",
        "\n",
        "## Define the Five-number Summary and explain each component:\n",
        "\n",
        "\n",
        "- **Minimum** - Smallest value in the dataset\n",
        "\n",
        "\n",
        "- **Q1 (First Quartile)** - 25 percentile of the dataset\n",
        "\n",
        "\n",
        "- **Median** - 50 percentile of the dataset (Q2)\n",
        "\n",
        "\n",
        "- **Q3 (Third Quartile)** - 75 percentile of the dataset\n",
        "\n",
        "\n",
        "- **Maximum** - Largest value in the dataset\n"
      ],
      "metadata": {
        "id": "PH9NnJ6bo7RF"
      }
    },
    {
      "cell_type": "markdown",
      "source": [
        "## Describe how boxplots help in detecting outliers."
      ],
      "metadata": {
        "id": "RF2rIonfpI9w"
      }
    },
    {
      "cell_type": "markdown",
      "source": [
        "Datapoints below lower and above upper bound are outliers"
      ],
      "metadata": {
        "id": "pPg-TuVoqCwC"
      }
    },
    {
      "cell_type": "markdown",
      "source": [
        "![image.png](data:image/png;base64,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)"
      ],
      "metadata": {
        "id": "yq4eR6efp-V4"
      }
    },
    {
      "cell_type": "markdown",
      "source": [
        "# **Q9. Confidence Interval for the Mean**\n",
        "\n",
        "**Objective:** Estimate population means using sample data.\n",
        "\n",
        "**Problem:**\n",
        " A sample of 36 students has an average height of 162 cm with a standard deviation of 6 cm.\n",
        " Calculate the 95% Confidence Interval for the population mean.\n",
        " (Hint: Use Z = 1.96 for 95% confidence)"
      ],
      "metadata": {
        "id": "BfRqMH4nrNF9"
      }
    },
    {
      "cell_type": "markdown",
      "source": [
        "---\n",
        "\n",
        "## ✅ **Given:**\n",
        "\n",
        "| Parameter                       | Value  |\n",
        "| ------------------------------- | ------ |\n",
        "| Sample size ($n$)               | 36     |\n",
        "| Sample mean ($\\bar{x}$)         | 162 cm |\n",
        "| Sample standard deviation ($s$) | 6 cm   |\n",
        "| Z-value for 95% confidence      | 1.96   |\n",
        "\n",
        "---\n",
        "\n",
        "## ✅ **Step 1: Find the Standard Error (SE)**\n",
        "\n",
        "$$\n",
        "SE = \\frac{s}{\\sqrt{n}}\n",
        "$$\n",
        "\n",
        "$$\n",
        "SE = \\frac{6}{\\sqrt{36}} = \\frac{6}{6} = 1\n",
        "$$\n",
        "\n",
        "---\n",
        "\n",
        "## ✅ **Step 2: Find the Margin of Error (ME)**\n",
        "\n",
        "$$\n",
        "ME = Z \\times SE = 1.96 \\times 1 = 1.96\n",
        "$$\n",
        "\n",
        "---\n",
        "\n",
        "## ✅ **Step 3: Compute the Confidence Interval**\n",
        "\n",
        "$$\n",
        "\\text{Lower limit} = \\bar{x} - ME = 162 - 1.96 = 160.04\n",
        "$$\n",
        "\n",
        "$$\n",
        "\\text{Upper limit} = \\bar{x} + ME = 162 + 1.96 = 163.96\n",
        "$$\n",
        "\n",
        "---\n",
        "\n",
        "## ✅ ✅ **Final Answer:**\n",
        "\n",
        "|                                                 | Value                      |\n",
        "| ----------------------------------------------- | -------------------------- |\n",
        "| **95% Confidence Interval for the mean height** | **(160.04 cm, 163.96 cm)** |\n"
      ],
      "metadata": {
        "id": "PlOQbY7dsW3O"
      }
    },
    {
      "cell_type": "markdown",
      "source": [
        "# **Q10. Hypothesis Testing - One Sample Z-Test**\n",
        "\n",
        "**Objective:** Make decisions using statistical testing.\n",
        "\n",
        "**Problem:**\n",
        " The average salary in a city is ₹30,000. A random sample of 49 employees has an average salary of ₹31,000 with a standard deviation of ₹4,900.\n",
        " Test the hypothesis at the 5% level of significance to determine if the average salary has increased."
      ],
      "metadata": {
        "id": "qz7HN4DCtzAe"
      }
    },
    {
      "cell_type": "markdown",
      "source": [
        "| Parameter                            | Value   |\n",
        "| ------------------------------------ | ------- |\n",
        "| Population mean ($\\mu_0$)            | ₹30,000 |\n",
        "| Sample mean ($\\bar{x}$)              | ₹31,000 |\n",
        "| Sample size ($n$)                    | 49      |\n",
        "| Sample standard deviation ($s$)      | ₹4,900  |\n",
        "| Significance level ($\\alpha$)        | 5%      |\n",
        "| Z critical value for 5% (two-tailed) | ±1.96   |\n"
      ],
      "metadata": {
        "id": "3YGrSxi_u45T"
      }
    },
    {
      "cell_type": "markdown",
      "source": [
        "a) State the null and alternative hypothesis:"
      ],
      "metadata": {
        "id": "Vwm9j5kkt5J3"
      }
    },
    {
      "cell_type": "markdown",
      "source": [
        "![image.png](data:image/png;base64,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)"
      ],
      "metadata": {
        "id": "pFM9Ruh2ugdk"
      }
    },
    {
      "cell_type": "markdown",
      "source": [
        "b) Calculate the Z-score:"
      ],
      "metadata": {
        "id": "wT-Yv3yLt7sW"
      }
    },
    {
      "cell_type": "markdown",
      "source": [
        "---\n",
        "\n",
        "## ✅ **(b) Calculate the Z-score**\n",
        "\n",
        "$$\n",
        "Z = \\frac{\\bar{x} - \\mu_0}{SE}\n",
        "$$\n",
        "\n",
        "First, calculate the Standard Error (SE):\n",
        "\n",
        "$$\n",
        "SE = \\frac{s}{\\sqrt{n}} = \\frac{4,900}{\\sqrt{49}} = \\frac{4,900}{7} = 700\n",
        "$$\n",
        "\n",
        "Now,\n",
        "\n",
        "$$\n",
        "Z = \\frac{31,000 - 30,000}{700} = \\frac{1,000}{700} \\approx 1.43\n",
        "$$\n",
        "\n",
        "---"
      ],
      "metadata": {
        "id": "L8Za7GLMu0wp"
      }
    },
    {
      "cell_type": "markdown",
      "source": [
        "c) Conclude the result using critical value (±1.96)"
      ],
      "metadata": {
        "id": "KlkOyoSLt9zC"
      }
    },
    {
      "cell_type": "markdown",
      "source": [
        "---\n",
        "\n",
        "## ✅ **Given**\n",
        "\n",
        "|                                  | Value   |\n",
        "| -------------------------------- | ------- |\n",
        "| Population mean (what city says) | ₹30,000 |\n",
        "| Sample mean (your sample says)   | ₹31,000 |\n",
        "| Sample size                      | 49      |\n",
        "| Sample standard deviation        | ₹4,900  |\n",
        "| Significance level               | 5%      |\n",
        "| Critical Z for **two-tailed**    | ±1.96   |\n",
        "\n",
        "---\n",
        "\n",
        "## ✅ **Step 1 — Hypotheses**\n",
        "\n",
        "Since you said **±1.96**, this means you are testing **both sides** (maybe salary is different — could be higher or lower).\n",
        "\n",
        "So,\n",
        "\n",
        "|                                 |                                                    |\n",
        "| ------------------------------- | -------------------------------------------------- |\n",
        "| **Null Hypothesis (H₀)**        | mean = ₹30,000                                     |\n",
        "| **Alternative Hypothesis (H₁)** | mean ≠ ₹30,000 (it is different — higher OR lower) |\n",
        "\n",
        "---\n",
        "\n",
        "## ✅ **Step 2 — Standard Error**\n",
        "\n",
        "$$\n",
        "SE = \\frac{s}{\\sqrt{n}} = \\frac{4,900}{\\sqrt{49}} = \\frac{4,900}{7} = 700\n",
        "$$\n",
        "\n",
        "---\n",
        "\n",
        "## ✅ **Step 3 — Z-score**\n",
        "\n",
        "$$\n",
        "Z = \\frac{\\bar{x} - \\mu}{SE} = \\frac{31,000 - 30,000}{700} = \\frac{1,000}{700} = 1.43\n",
        "$$\n",
        "\n",
        "---\n",
        "\n",
        "## ✅ **Step 4 — Critical Z (two-tailed)**\n",
        "\n",
        "* For **two-tailed 5%**, the rejection region is:\n",
        "\n",
        "  * Z < -1.96\n",
        "  * Z > +1.96\n",
        "\n",
        "So, you reject **H₀** if the Z-score is **more extreme** than ±1.96.\n",
        "\n",
        "---\n",
        "\n",
        "## ✅ **Step 5 — Compare**\n",
        "\n",
        "|                  | Value |\n",
        "| ---------------- | ----- |\n",
        "| **Calculated Z** | 1.43  |\n",
        "| **Critical Z**   | ±1.96 |\n",
        "\n",
        "* Since **1.43 is between -1.96 and +1.96**, it is **not in the rejection region**.\n",
        "\n",
        "---\n",
        "\n",
        "## ✅ **Step 6 — Conclusion**\n",
        "\n",
        "* **Decision:** Do not reject H₀.\n",
        "* **Interpretation:** There is **no significant evidence** at the 5% level that the average salary is different from ₹30,000.\n",
        "\n",
        "---\n",
        "\n",
        "## ✅✅ **Final answer (simple)**\n",
        "\n",
        "|                        | Answer                                                                               |\n",
        "| ---------------------- | ------------------------------------------------------------------------------------ |\n",
        "| Null Hypothesis        | mean = 30,000                                                                        |\n",
        "| Alternative Hypothesis | mean ≠ 30,000                                                                        |\n",
        "| Z-score                | 1.43                                                                                 |\n",
        "| Critical Z             | ±1.96                                                                                |\n",
        "| Conclusion             | **1.43 is inside ±1.96 → do not reject H₀ → salary is not significantly different.** |\n",
        "\n",
        "---"
      ],
      "metadata": {
        "id": "cQRkbcUywM9-"
      }
    }
  ]
}